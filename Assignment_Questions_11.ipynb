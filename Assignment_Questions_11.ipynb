{
  "nbformat": 4,
  "nbformat_minor": 0,
  "metadata": {
    "colab": {
      "provenance": [],
      "authorship_tag": "ABX9TyOox16nr94qbpnsjRbKwnlZ",
      "include_colab_link": true
    },
    "kernelspec": {
      "name": "python3",
      "display_name": "Python 3"
    },
    "language_info": {
      "name": "python"
    }
  },
  "cells": [
    {
      "cell_type": "markdown",
      "metadata": {
        "id": "view-in-github",
        "colab_type": "text"
      },
      "source": [
        "<a href=\"https://colab.research.google.com/github/CAPTAINY2/Assignment-11---Binary-Search-/blob/main/Assignment_Questions_11.ipynb\" target=\"_parent\"><img src=\"https://colab.research.google.com/assets/colab-badge.svg\" alt=\"Open In Colab\"/></a>"
      ]
    },
    {
      "cell_type": "markdown",
      "source": [
        "### QUESTION-1"
      ],
      "metadata": {
        "id": "KtIPuKUmTRUJ"
      }
    },
    {
      "cell_type": "code",
      "execution_count": 4,
      "metadata": {
        "id": "FVVNq3cSTdZi",
        "colab": {
          "base_uri": "https://localhost:8080/"
        },
        "outputId": "ebedf7f8-304b-4f60-f19a-c2e5a9fa8665"
      },
      "outputs": [
        {
          "output_type": "stream",
          "name": "stdout",
          "text": [
            "Input: x=4\n",
            "Output: 2\n",
            "Input: x=8\n",
            "Output: 2\n"
          ]
        }
      ],
      "source": [
        "def sqr(x):\n",
        "    if x <= 1:\n",
        "        return x\n",
        "\n",
        "    left = 0\n",
        "    right = x\n",
        "\n",
        "    while left <= right:\n",
        "        mid = (left + right) // 2\n",
        "        square = mid * mid\n",
        "\n",
        "        if square > x:\n",
        "            right = mid - 1\n",
        "        else:\n",
        "            left = mid + 1\n",
        "\n",
        "    return right\n",
        "\n",
        "print(f\"Input: x=4\")\n",
        "print(f\"Output: {sqr(4)}\")\n",
        "\n",
        "print(f\"Input: x=8\")\n",
        "print(f\"Output: {sqr(8)}\")\n"
      ]
    },
    {
      "cell_type": "markdown",
      "source": [
        "### QUESTION-2"
      ],
      "metadata": {
        "id": "5yiRhUGwTV-x"
      }
    },
    {
      "cell_type": "code",
      "source": [
        "nums1 = [1, 2, 3, 1]\n",
        "nums2 = [1,2,1,3,5,6,4]\n",
        "\n",
        "def element(nums):\n",
        "    left = 0\n",
        "    right = len(nums) - 1\n",
        "\n",
        "    while left < right:\n",
        "        mid = (left + right) // 2\n",
        "\n",
        "        if nums[mid] < nums[mid + 1]:\n",
        "            left = mid + 1\n",
        "        elif nums[mid] < nums[mid - 1]:\n",
        "            right = mid - 1\n",
        "        else:\n",
        "            return mid\n",
        "\n",
        "    return left\n",
        "\n",
        "print(f\"Output 1: {element(nums1)}\")\n",
        "\n",
        "\n",
        "print(f\"Output 2: {element(nums2)}\")"
      ],
      "metadata": {
        "colab": {
          "base_uri": "https://localhost:8080/"
        },
        "id": "xHDIuPQDxNfR",
        "outputId": "038bb848-9e67-4538-815c-0048faf5f5f8"
      },
      "execution_count": 8,
      "outputs": [
        {
          "output_type": "stream",
          "name": "stdout",
          "text": [
            "Output 1: 2\n",
            "Output 2: 5\n"
          ]
        }
      ]
    },
    {
      "cell_type": "markdown",
      "source": [
        "### QUESTION-3"
      ],
      "metadata": {
        "id": "2xRpwlkUTe3z"
      }
    },
    {
      "cell_type": "code",
      "source": [
        "nums1 = [3,0,1]\n",
        "nums2 = [0,1]\n",
        "nums3 = [9,6,4,2,3,5,7,0,1]\n",
        "def missing(nums):\n",
        "    n = len(nums)\n",
        "    missing = n\n",
        "\n",
        "    for i, num in enumerate(nums):\n",
        "        missing ^= i ^ num\n",
        "\n",
        "    return missing\n",
        "\n",
        "print(f\"Output 1 : {missing(nums1)}\")\n",
        "print(f\"Output 2 : {missing(nums2)}\")\n",
        "print(f\"Output 3 : {missing(nums3)}\")"
      ],
      "metadata": {
        "colab": {
          "base_uri": "https://localhost:8080/"
        },
        "id": "ugXpz1JqyS-D",
        "outputId": "42e7b20a-4693-4d00-ad00-0c3616b17b68"
      },
      "execution_count": 10,
      "outputs": [
        {
          "output_type": "stream",
          "name": "stdout",
          "text": [
            "Output 1 : 2\n",
            "Output 2 : 2\n",
            "Output 3 : 8\n"
          ]
        }
      ]
    },
    {
      "cell_type": "markdown",
      "source": [
        "### QUESTION-4"
      ],
      "metadata": {
        "id": "AonWjA_pThA2"
      }
    },
    {
      "cell_type": "code",
      "source": [
        "nums1 = [1,3,4,2,2]\n",
        "nums2 = [3,1,3,4,2]\n",
        "\n",
        "def arr(nums):\n",
        "    i = nums[0]\n",
        "    j = nums[0]\n",
        "\n",
        "    while True:\n",
        "        i = nums[i]\n",
        "        j = nums[nums[j]]\n",
        "        if i == j:\n",
        "            break\n",
        "\n",
        "    i = nums[0]\n",
        "\n",
        "    while i != j:\n",
        "        i = nums[i]\n",
        "        j = nums[j]\n",
        "\n",
        "    return i\n",
        "\n",
        "print(f\"Output 1 : {arr(nums1)}\")\n",
        "print(f\"Output 2 : {arr(nums2)}\")"
      ],
      "metadata": {
        "colab": {
          "base_uri": "https://localhost:8080/"
        },
        "id": "tdLWRl-73J08",
        "outputId": "e27fe589-ef20-45db-ff59-72347e32dd6f"
      },
      "execution_count": 13,
      "outputs": [
        {
          "output_type": "stream",
          "name": "stdout",
          "text": [
            "Output 1 : 2\n",
            "Output 2 : 3\n"
          ]
        }
      ]
    },
    {
      "cell_type": "markdown",
      "source": [
        "### QUESTION-5"
      ],
      "metadata": {
        "id": "R3TVfwDaTir0"
      }
    },
    {
      "cell_type": "code",
      "source": [
        "nums1 = [1, 2, 2, 1]\n",
        "nums2 = [2, 2]\n",
        "nums3 = [4,9,5]\n",
        "nums4 = [9,4,9,8,4]\n",
        "\n",
        "def intersection(nums1, nums2):\n",
        "    set1 = set(nums1)\n",
        "    intersection = []\n",
        "\n",
        "    for i in nums2:\n",
        "        if i in set1:\n",
        "            intersection.append(i)\n",
        "            set1.remove(i)\n",
        "    return intersection\n",
        "\n",
        "print(f\"Input: nums1 = [1, 2, 2, 1]nums2 = [2, 2]\")\n",
        "print(f\"Output 1 : {intersection(nums1, nums2)}\")\n",
        "\n",
        "print(f\"Input: nums3 = [4,9,5] nums4 = [9,4,9,8,4]\")\n",
        "print(f\"Output 2 : {intersection(nums3, nums4)}\")\n",
        "\n"
      ],
      "metadata": {
        "colab": {
          "base_uri": "https://localhost:8080/"
        },
        "id": "7Gz42Lxh3mI1",
        "outputId": "860bb415-2cd0-41f1-cf58-8e8e34ad2718"
      },
      "execution_count": 14,
      "outputs": [
        {
          "output_type": "stream",
          "name": "stdout",
          "text": [
            "Input: nums1 = [1, 2, 2, 1]nums2 = [2, 2]\n",
            "Output 1 : [2]\n",
            "Input: nums3 = [4,9,5] nums4 = [9,4,9,8,4]\n",
            "Output 2 : [9, 4]\n"
          ]
        }
      ]
    },
    {
      "cell_type": "markdown",
      "source": [
        "### QUESTION-6"
      ],
      "metadata": {
        "id": "OlY6zgkPTkAv"
      }
    },
    {
      "cell_type": "code",
      "source": [
        "nums1 = [3, 4, 5, 1, 2]\n",
        "nums2 = [4,5,6,7,0,1,2]\n",
        "nums3 = [11,13,15,17]\n",
        "\n",
        "def minimum(nums):\n",
        "    left = 0\n",
        "    right = len(nums) - 1\n",
        "\n",
        "    if nums[left] <= nums[right]:\n",
        "        return nums[left]\n",
        "\n",
        "    while left < right:\n",
        "        mid = (left + right) // 2\n",
        "\n",
        "        if nums[mid] > nums[right]:\n",
        "            left = mid + 1\n",
        "        else:\n",
        "            right = mid\n",
        "\n",
        "    return nums[left]\n",
        "\n",
        "print(f\"Output 1: {minimum(nums1)}\")\n",
        "print(f\"Output 2: {minimum(nums2)}\")\n",
        "print(f\"Output 3: {minimum(nums3)}\")"
      ],
      "metadata": {
        "colab": {
          "base_uri": "https://localhost:8080/"
        },
        "id": "wcZDclX0OgcI",
        "outputId": "24be7833-ef95-487a-eb0f-aa2f91642848"
      },
      "execution_count": 15,
      "outputs": [
        {
          "output_type": "stream",
          "name": "stdout",
          "text": [
            "Output 1: 1\n",
            "Output 2: 0\n",
            "Output 3: 11\n"
          ]
        }
      ]
    },
    {
      "cell_type": "markdown",
      "source": [
        "### QUESTION-7"
      ],
      "metadata": {
        "id": "qoNWMr2vTmbm"
      }
    },
    {
      "cell_type": "code",
      "source": [
        "nums1 = [5, 7, 7, 8, 8, 10]\n",
        "target1=8\n",
        "nums2 = [5,7,7,8,8,10]\n",
        "target2 = 6\n",
        "nums3 = []\n",
        "target3 = 0\n",
        "\n",
        "def position(nums, target):\n",
        "    left = 0\n",
        "    right = len(nums) - 1\n",
        "    start = -1\n",
        "    end = -1\n",
        "\n",
        "    while left <= right:\n",
        "        mid = (left + right) // 2\n",
        "\n",
        "        if nums[mid] == target:\n",
        "            start = mid\n",
        "            end = mid\n",
        "            break\n",
        "        elif nums[mid] >= target:\n",
        "            right = mid - 1\n",
        "        else:\n",
        "            left = mid + 1\n",
        "\n",
        "    if start == -1:\n",
        "        return [-1, -1]\n",
        "\n",
        "    while start >= 0 and nums[start] == target:\n",
        "        start -= 1\n",
        "\n",
        "    while end < len(nums) and nums[end] == target:\n",
        "        end += 1\n",
        "\n",
        "    return [start + 1, end - 1]\n",
        "\n",
        "print(f\"Output 1: {position(nums1, target1)}\")\n",
        "print(f\"Output 2: {position(nums2, target2)}\")\n",
        "print(f\"Output 3: {position(nums3, target3)}\")\n"
      ],
      "metadata": {
        "colab": {
          "base_uri": "https://localhost:8080/"
        },
        "id": "XNICINDZPeh0",
        "outputId": "4c0c5ad7-1a95-4eab-fed0-a1f59d8db8f2"
      },
      "execution_count": 21,
      "outputs": [
        {
          "output_type": "stream",
          "name": "stdout",
          "text": [
            "Output 1: [3, 4]\n",
            "Output 2: [-1, -1]\n",
            "Output 3: [-1, -1]\n"
          ]
        }
      ]
    },
    {
      "cell_type": "markdown",
      "source": [
        "### QUESTION-8"
      ],
      "metadata": {
        "id": "Cfg_NR9rTosp"
      }
    },
    {
      "cell_type": "code",
      "source": [
        "nums1 = [1,2,2,1]\n",
        "nums2 = [2,2]\n",
        "nums3 = [4,9,5]\n",
        "nums4 = [9,4,9,8,4]\n",
        "\n",
        "\n",
        "def intersect(nums1, nums2):\n",
        "    map = {}\n",
        "    for i in nums1:\n",
        "        if i in map:\n",
        "            map[i] += 1\n",
        "        else:\n",
        "            map[i] = 1\n",
        "\n",
        "    intersection = []\n",
        "    for i in nums2:\n",
        "        if i in map and map[i] > 0:\n",
        "            intersection.append(i)\n",
        "            map[i] -= 1\n",
        "\n",
        "    return intersection\n",
        "\n",
        "print(f\"Output 1: {intersect(nums1, nums2)} \")\n",
        "print(f\"Output 2: {intersect(nums3, nums4)}\")"
      ],
      "metadata": {
        "colab": {
          "base_uri": "https://localhost:8080/"
        },
        "id": "X2TGzg9DPwWv",
        "outputId": "26c27fd9-4a54-4e48-d2ad-44f178c294c6"
      },
      "execution_count": 22,
      "outputs": [
        {
          "output_type": "stream",
          "name": "stdout",
          "text": [
            "Output 1: [2, 2] \n",
            "Output 2: [9, 4]\n"
          ]
        }
      ]
    },
    {
      "cell_type": "code",
      "source": [],
      "metadata": {
        "id": "127toKH0TM7o"
      },
      "execution_count": null,
      "outputs": []
    }
  ]
}